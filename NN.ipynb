{
 "cells": [
  {
   "cell_type": "code",
   "execution_count": 1,
   "id": "9ac9f4e5-c985-443a-b589-7ad4c8a8b2ee",
   "metadata": {},
   "outputs": [],
   "source": [
    "import numpy as np\n",
    "import pandas as pd\n",
    "import matplotlib.pyplot as plt\n",
    "import math"
   ]
  },
  {
   "cell_type": "code",
   "execution_count": 2,
   "id": "53f95fe9-8291-466c-b9d3-36d6d88f8830",
   "metadata": {},
   "outputs": [],
   "source": [
    "data = pd.read_csv('train.csv')"
   ]
  },
  {
   "cell_type": "code",
   "execution_count": 3,
   "id": "81f2f6d0-eefc-43d1-8708-cd4db48ec8c2",
   "metadata": {},
   "outputs": [
    {
     "data": {
      "text/html": [
       "<div>\n",
       "<style scoped>\n",
       "    .dataframe tbody tr th:only-of-type {\n",
       "        vertical-align: middle;\n",
       "    }\n",
       "\n",
       "    .dataframe tbody tr th {\n",
       "        vertical-align: top;\n",
       "    }\n",
       "\n",
       "    .dataframe thead th {\n",
       "        text-align: right;\n",
       "    }\n",
       "</style>\n",
       "<table border=\"1\" class=\"dataframe\">\n",
       "  <thead>\n",
       "    <tr style=\"text-align: right;\">\n",
       "      <th></th>\n",
       "      <th>label</th>\n",
       "      <th>pixel0</th>\n",
       "      <th>pixel1</th>\n",
       "      <th>pixel2</th>\n",
       "      <th>pixel3</th>\n",
       "      <th>pixel4</th>\n",
       "      <th>pixel5</th>\n",
       "      <th>pixel6</th>\n",
       "      <th>pixel7</th>\n",
       "      <th>pixel8</th>\n",
       "      <th>...</th>\n",
       "      <th>pixel774</th>\n",
       "      <th>pixel775</th>\n",
       "      <th>pixel776</th>\n",
       "      <th>pixel777</th>\n",
       "      <th>pixel778</th>\n",
       "      <th>pixel779</th>\n",
       "      <th>pixel780</th>\n",
       "      <th>pixel781</th>\n",
       "      <th>pixel782</th>\n",
       "      <th>pixel783</th>\n",
       "    </tr>\n",
       "  </thead>\n",
       "  <tbody>\n",
       "    <tr>\n",
       "      <th>0</th>\n",
       "      <td>1</td>\n",
       "      <td>0</td>\n",
       "      <td>0</td>\n",
       "      <td>0</td>\n",
       "      <td>0</td>\n",
       "      <td>0</td>\n",
       "      <td>0</td>\n",
       "      <td>0</td>\n",
       "      <td>0</td>\n",
       "      <td>0</td>\n",
       "      <td>...</td>\n",
       "      <td>0</td>\n",
       "      <td>0</td>\n",
       "      <td>0</td>\n",
       "      <td>0</td>\n",
       "      <td>0</td>\n",
       "      <td>0</td>\n",
       "      <td>0</td>\n",
       "      <td>0</td>\n",
       "      <td>0</td>\n",
       "      <td>0</td>\n",
       "    </tr>\n",
       "    <tr>\n",
       "      <th>1</th>\n",
       "      <td>0</td>\n",
       "      <td>0</td>\n",
       "      <td>0</td>\n",
       "      <td>0</td>\n",
       "      <td>0</td>\n",
       "      <td>0</td>\n",
       "      <td>0</td>\n",
       "      <td>0</td>\n",
       "      <td>0</td>\n",
       "      <td>0</td>\n",
       "      <td>...</td>\n",
       "      <td>0</td>\n",
       "      <td>0</td>\n",
       "      <td>0</td>\n",
       "      <td>0</td>\n",
       "      <td>0</td>\n",
       "      <td>0</td>\n",
       "      <td>0</td>\n",
       "      <td>0</td>\n",
       "      <td>0</td>\n",
       "      <td>0</td>\n",
       "    </tr>\n",
       "    <tr>\n",
       "      <th>2</th>\n",
       "      <td>1</td>\n",
       "      <td>0</td>\n",
       "      <td>0</td>\n",
       "      <td>0</td>\n",
       "      <td>0</td>\n",
       "      <td>0</td>\n",
       "      <td>0</td>\n",
       "      <td>0</td>\n",
       "      <td>0</td>\n",
       "      <td>0</td>\n",
       "      <td>...</td>\n",
       "      <td>0</td>\n",
       "      <td>0</td>\n",
       "      <td>0</td>\n",
       "      <td>0</td>\n",
       "      <td>0</td>\n",
       "      <td>0</td>\n",
       "      <td>0</td>\n",
       "      <td>0</td>\n",
       "      <td>0</td>\n",
       "      <td>0</td>\n",
       "    </tr>\n",
       "    <tr>\n",
       "      <th>3</th>\n",
       "      <td>4</td>\n",
       "      <td>0</td>\n",
       "      <td>0</td>\n",
       "      <td>0</td>\n",
       "      <td>0</td>\n",
       "      <td>0</td>\n",
       "      <td>0</td>\n",
       "      <td>0</td>\n",
       "      <td>0</td>\n",
       "      <td>0</td>\n",
       "      <td>...</td>\n",
       "      <td>0</td>\n",
       "      <td>0</td>\n",
       "      <td>0</td>\n",
       "      <td>0</td>\n",
       "      <td>0</td>\n",
       "      <td>0</td>\n",
       "      <td>0</td>\n",
       "      <td>0</td>\n",
       "      <td>0</td>\n",
       "      <td>0</td>\n",
       "    </tr>\n",
       "    <tr>\n",
       "      <th>4</th>\n",
       "      <td>0</td>\n",
       "      <td>0</td>\n",
       "      <td>0</td>\n",
       "      <td>0</td>\n",
       "      <td>0</td>\n",
       "      <td>0</td>\n",
       "      <td>0</td>\n",
       "      <td>0</td>\n",
       "      <td>0</td>\n",
       "      <td>0</td>\n",
       "      <td>...</td>\n",
       "      <td>0</td>\n",
       "      <td>0</td>\n",
       "      <td>0</td>\n",
       "      <td>0</td>\n",
       "      <td>0</td>\n",
       "      <td>0</td>\n",
       "      <td>0</td>\n",
       "      <td>0</td>\n",
       "      <td>0</td>\n",
       "      <td>0</td>\n",
       "    </tr>\n",
       "  </tbody>\n",
       "</table>\n",
       "<p>5 rows × 785 columns</p>\n",
       "</div>"
      ],
      "text/plain": [
       "   label  pixel0  pixel1  pixel2  pixel3  pixel4  pixel5  pixel6  pixel7  \\\n",
       "0      1       0       0       0       0       0       0       0       0   \n",
       "1      0       0       0       0       0       0       0       0       0   \n",
       "2      1       0       0       0       0       0       0       0       0   \n",
       "3      4       0       0       0       0       0       0       0       0   \n",
       "4      0       0       0       0       0       0       0       0       0   \n",
       "\n",
       "   pixel8  ...  pixel774  pixel775  pixel776  pixel777  pixel778  pixel779  \\\n",
       "0       0  ...         0         0         0         0         0         0   \n",
       "1       0  ...         0         0         0         0         0         0   \n",
       "2       0  ...         0         0         0         0         0         0   \n",
       "3       0  ...         0         0         0         0         0         0   \n",
       "4       0  ...         0         0         0         0         0         0   \n",
       "\n",
       "   pixel780  pixel781  pixel782  pixel783  \n",
       "0         0         0         0         0  \n",
       "1         0         0         0         0  \n",
       "2         0         0         0         0  \n",
       "3         0         0         0         0  \n",
       "4         0         0         0         0  \n",
       "\n",
       "[5 rows x 785 columns]"
      ]
     },
     "execution_count": 3,
     "metadata": {},
     "output_type": "execute_result"
    }
   ],
   "source": [
    "data.head()"
   ]
  },
  {
   "cell_type": "code",
   "execution_count": 4,
   "id": "f5b202b4-9e62-43fe-a448-40bf52c58270",
   "metadata": {},
   "outputs": [
    {
     "name": "stdout",
     "output_type": "stream",
     "text": [
      "Examples: 42000 Features & Target: 785\n"
     ]
    }
   ],
   "source": [
    "data = np.array(data)\n",
    "m, n = data.shape\n",
    "\n",
    "np.random.shuffle(data)\n",
    "print(f'Examples: {m} Features & Target: {n}')"
   ]
  },
  {
   "cell_type": "code",
   "execution_count": 5,
   "id": "61dfade9-eb29-42d4-ba6d-dbb50df1d988",
   "metadata": {},
   "outputs": [],
   "source": [
    "# Change the data such that each column is an example - (784, 42000)\n",
    "data_val = data[0:1000, :].T\n",
    "X_dev = data_val[1:n, :]\n",
    "Y_dev = data_val[0, :]"
   ]
  },
  {
   "cell_type": "code",
   "execution_count": 6,
   "id": "513f7137-ed71-4abd-97ff-ad085a6883c9",
   "metadata": {},
   "outputs": [],
   "source": [
    "data_train = data[1000:m, :].T\n",
    "X_train = data_train[1:n, :]\n",
    "X_train = X_train / 255.0\n",
    "\n",
    "Y_train = data_train[0, :]"
   ]
  },
  {
   "cell_type": "code",
   "execution_count": 7,
   "id": "eb720f61-2d42-4969-8d83-0113536a66f0",
   "metadata": {},
   "outputs": [
    {
     "name": "stdout",
     "output_type": "stream",
     "text": [
      "Train data: (784, 41000) Train labels: (41000,)\n",
      "Dev set data: (784, 1000) Test labels: (1000,)\n"
     ]
    }
   ],
   "source": [
    "print(f'Train data: {X_train.shape} Train labels: {Y_train.shape}')\n",
    "print(f'Dev set data: {X_dev.shape} Test labels: {Y_dev.shape}')"
   ]
  },
  {
   "cell_type": "code",
   "execution_count": 10,
   "id": "c729be33-01b4-41bd-9530-80c9d3ff490b",
   "metadata": {},
   "outputs": [],
   "source": [
    "def ReLU(Z):\n",
    "    return np.maximum(Z,0)\n",
    "\n",
    "def derivative_ReLU(Z):\n",
    "    return Z > 0\n",
    "\n",
    "def softmax(Z):\n",
    "    exp = np.exp(Z - np.max(Z))\n",
    "    return exp / exp.sum(axis=0)\n",
    "\n",
    "def init_params(size):\n",
    "    W1 = np.random.rand(10, size) - 0.5\n",
    "    b1 = np.random.rand(10, 1) - 0.5\n",
    "    W2 = np.random.rand(10, 10) - 0.5\n",
    "    b2 = np.random.rand(10, 1) - 0.5\n",
    "    return W1,b1,W2,b2\n",
    "\n",
    "def forward_propagation(X, W1, b1, W2, b2):\n",
    "    Z1 = W1.dot(X) + b1 #10, m\n",
    "    A1 = ReLU(Z1) # 10,m\n",
    "    Z2 = W2.dot(A1) + b2 #10,m\n",
    "    A2 = softmax(Z2) #10,m\n",
    "    return Z1, A1, Z2, A2\n",
    "\n",
    "def one_hot(Y, num_classes=10):\n",
    "    one_hot_Y = np.zeros((num_classes, Y.size))\n",
    "    one_hot_Y[Y, np.arange(Y.size)] = 1\n",
    "    return one_hot_Y\n",
    "\n",
    "def backward_propagation(X, Y, A1, A2, W2, W1, Z1, m, lambda_):\n",
    "    one_hot_Y = one_hot(Y)\n",
    "    # Derivative of categorical cross entropy & softmax is just (A2 - y)\n",
    "    dZ2 = (A2 - one_hot_Y) # 10, m\n",
    "    # Using Regularisation\n",
    "    dW2 = 1/m * (dZ2.dot(A1.T)) - (lambda_/m) * W2# 10, 10\n",
    "    db2 = 1/m * np.sum(dZ2,1)\n",
    "    dZ1 = W2.T.dot(dZ2) * derivative_ReLU(Z1) # 10, m\n",
    "    dW1 = 1/m * (dZ1.dot(X.T)) - (lambda_/m) * W1 #10, 784\n",
    "    db1 = 1/m * np.sum(dZ1,1)\n",
    "\n",
    "    return dW1, db1, dW2, db2\n",
    "\n",
    "def update_params(alpha, W1, b1, W2, b2, dW1, db1, dW2, db2):\n",
    "    W1 = W1 - alpha * dW1 \n",
    "    b1 = b1 - alpha * np.reshape(db1, (10,1)) \n",
    "    W2 = W2 - alpha * dW2 \n",
    "    b2 = b2 - alpha * np.reshape(db2, (10,1))\n",
    "\n",
    "    return W1, b1, W2, b2\n",
    "\n",
    "def get_predictions(A2):\n",
    "    return np.argmax(A2, 0)\n",
    "\n",
    "def get_accuracy(predictions, Y):\n",
    "    return np.sum(predictions == Y)/Y.size\n",
    "\n",
    "def gradient_descent(X, Y, alpha, iterations, batch_size, lambda_):\n",
    "    size , m = X.shape\n",
    "    back_props = math.floor(m // batch_size)\n",
    "    W1, b1, W2, b2 = init_params(size)\n",
    "    for i in range(iterations):\n",
    "        # Mini batch gradient descent\n",
    "        for j in range(back_props):\n",
    "            start_point =  int(batch_size*j)\n",
    "            \n",
    "            X_batch = X[:, start_point : start_point + batch_size]\n",
    "            Y_batch = Y[start_point : start_point + batch_size]\n",
    "            \n",
    "            Z1, A1, Z2, A2 = forward_propagation(X_batch, W1, b1, W2, b2)\n",
    "        \n",
    "            dW1, db1, dW2, db2 = backward_propagation(X_batch, Y_batch, A1, A2, W2, W1, Z1, batch_size, lambda_)\n",
    "\n",
    "            W1, b1, W2, b2 = update_params(alpha, W1, b1, W2, b2, dW1, db1, dW2, db2)   \n",
    "            \n",
    "        if (i+1) % int(iterations/10) == 0:\n",
    "            print(f\"Iteration: {i+1} / {iterations}\")\n",
    "            prediction = get_predictions(A2)\n",
    "            print(f'{get_accuracy(prediction, Y_batch):.3%}')\n",
    "    return W1, b1, W2, b2\n"
   ]
  },
  {
   "cell_type": "code",
   "execution_count": 11,
   "id": "e74fa1df-04ae-4f60-b12e-a49c53134bc5",
   "metadata": {},
   "outputs": [
    {
     "name": "stdout",
     "output_type": "stream",
     "text": [
      "Iteration: 10 / 100\n",
      "93.750%\n",
      "Iteration: 20 / 100\n",
      "93.750%\n",
      "Iteration: 30 / 100\n",
      "92.188%\n",
      "Iteration: 40 / 100\n",
      "92.188%\n",
      "Iteration: 50 / 100\n",
      "92.188%\n",
      "Iteration: 60 / 100\n",
      "92.188%\n",
      "Iteration: 70 / 100\n",
      "92.188%\n",
      "Iteration: 80 / 100\n",
      "93.750%\n",
      "Iteration: 90 / 100\n",
      "95.312%\n",
      "Iteration: 100 / 100\n",
      "93.750%\n"
     ]
    }
   ],
   "source": [
    "W1, b1, W2, b2 = gradient_descent(X_train, Y_train, 0.15, 100, batch_size=64, lambda_= 0.0001)"
   ]
  },
  {
   "cell_type": "code",
   "execution_count": 12,
   "id": "049f4ad0-b4ec-464e-991c-9d151cf1a608",
   "metadata": {},
   "outputs": [],
   "source": [
    "def make_predictions(X_test, W1, b1, W2, b2):\n",
    "    _, _, _, A2 = forward_propagation(X_test, W1, b1, W2, b2)\n",
    "    prediction = np.argmax(A2, 0)\n",
    "    return prediction"
   ]
  },
  {
   "cell_type": "code",
   "execution_count": 13,
   "id": "9f3cc2ab-8327-46bf-a0a5-cc5d3c151c37",
   "metadata": {},
   "outputs": [
    {
     "name": "stdout",
     "output_type": "stream",
     "text": [
      "Accuracy on validation set = 0.937\n"
     ]
    }
   ],
   "source": [
    "X_dev_scaled = X_dev / 255\n",
    "Y_dev_pred = make_predictions(X_dev_scaled, W1, b1, W2, b2)\n",
    "print(f'Accuracy on validation set = {get_accuracy(Y_dev_pred, Y_dev)}')"
   ]
  },
  {
   "cell_type": "code",
   "execution_count": 14,
   "id": "88d4a29f-3155-40f1-a48a-6751c08c8ecd",
   "metadata": {},
   "outputs": [
    {
     "data": {
      "image/png": "[encoded data removed]",
      "text/plain": [
       "<Figure size 2000x2000 with 5 Axes>"
      ]
     },
     "metadata": {},
     "output_type": "display_data"
    }
   ],
   "source": [
    "fig, axes = plt.subplots(ncols=5, figsize=(20, 20))\n",
    "for i, axis in enumerate(axes):\n",
    "\n",
    "    # Reshape the flattened image to 28x28\n",
    "    image_array = np.reshape(X_dev[:, i], (28, 28))\n",
    "\n",
    "    # If not already uint8, convert it\n",
    "    image_array = image_array.astype(np.uint8)\n",
    "\n",
    "    # Display using matplotlib\n",
    "    axis.imshow(image_array, cmap='gray')\n",
    "    axis.set_title(f'Predicted: {Y_dev_pred[i]}, True label:{Y_dev[i]}', loc='left')\n",
    "plt.show()\n"
   ]
  },
  {
   "cell_type": "code",
   "execution_count": null,
   "id": "2e58dcdc-a076-4fa9-8231-e7d19b7e86c9",
   "metadata": {},
   "outputs": [],
   "source": []
  }
 ],
 "metadata": {
  "kernelspec": {
   "display_name": "Python [conda env:base] *",
   "language": "python",
   "name": "conda-base-py"
  },
  "language_info": {
   "codemirror_mode": {
    "name": "ipython",
    "version": 3
   },
   "file_extension": ".py",
   "mimetype": "text/x-python",
   "name": "python",
   "nbconvert_exporter": "python",
   "pygments_lexer": "ipython3",
   "version": "3.12.7"
  }
 },
 "nbformat": 4,
 "nbformat_minor": 5
}
